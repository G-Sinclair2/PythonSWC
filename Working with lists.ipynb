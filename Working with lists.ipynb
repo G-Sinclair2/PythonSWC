{
 "cells": [
  {
   "cell_type": "code",
   "execution_count": 4,
   "metadata": {},
   "outputs": [
    {
     "name": "stdout",
     "output_type": "stream",
     "text": [
      "length 5\n",
      "zeroth item is: 0.273\n"
     ]
    }
   ],
   "source": [
    "pressures = [0.273, 0.275, 0.277, 0.275, 0.276]\n",
    "print('length', len(pressures))\n",
    "print('zeroth item is:', pressures[0])"
   ]
  },
  {
   "cell_type": "code",
   "execution_count": 5,
   "metadata": {},
   "outputs": [
    {
     "name": "stdout",
     "output_type": "stream",
     "text": [
      "zeroth item is now: 0.15\n"
     ]
    }
   ],
   "source": [
    "pressures[0] = 0.15\n",
    "print('zeroth item is now:', pressures[0])"
   ]
  },
  {
   "cell_type": "code",
   "execution_count": 8,
   "metadata": {},
   "outputs": [
    {
     "name": "stdout",
     "output_type": "stream",
     "text": [
      "[0.15, 0.275, 0.277, 0.275, 0.276, 0.333, 0.333, 0.333]\n"
     ]
    }
   ],
   "source": [
    "pressures.append(0.333)\n",
    "print(pressures)"
   ]
  },
  {
   "cell_type": "code",
   "execution_count": 12,
   "metadata": {},
   "outputs": [
    {
     "name": "stdout",
     "output_type": "stream",
     "text": [
      "[0.15, 0.275, 0.277, 0.275, 0.276]\n"
     ]
    }
   ],
   "source": [
    "del pressures[-1]\n",
    "print(pressures)"
   ]
  },
  {
   "cell_type": "markdown",
   "metadata": {},
   "source": [
    "Lets explore for-loops."
   ]
  },
  {
   "cell_type": "code",
   "execution_count": 24,
   "metadata": {},
   "outputs": [
    {
     "name": "stdout",
     "output_type": "stream",
     "text": [
      "0 0\n",
      "2 4\n",
      "5 25\n",
      "10 100\n"
     ]
    }
   ],
   "source": [
    "for number in [0, 2, 5, 10]:\n",
    "    squared = number ** 2\n",
    "    print(number, squared)"
   ]
  },
  {
   "cell_type": "code",
   "execution_count": 30,
   "metadata": {},
   "outputs": [
    {
     "name": "stdout",
     "output_type": "stream",
     "text": [
      "Joy\n",
      "Joy\n",
      "Joy\n",
      "Joy\n",
      "Joy\n",
      "Joy\n",
      "Joy\n",
      "Joy\n",
      "Joy\n",
      "Joy\n",
      "10\n"
     ]
    }
   ],
   "source": [
    "#Sum of the first 10 integers\n",
    "count = 0\n",
    "\n",
    "for number in range(10):\n",
    "    count = count + 1\n",
    "    print('Joy')\n",
    "    \n",
    "print(count)"
   ]
  },
  {
   "cell_type": "markdown",
   "metadata": {},
   "source": [
    "Creating our own functions."
   ]
  },
  {
   "cell_type": "code",
   "execution_count": 37,
   "metadata": {},
   "outputs": [],
   "source": [
    "def print_greeting():\n",
    "    print('Salut')"
   ]
  },
  {
   "cell_type": "code",
   "execution_count": 38,
   "metadata": {},
   "outputs": [
    {
     "name": "stdout",
     "output_type": "stream",
     "text": [
      "Salut\n"
     ]
    }
   ],
   "source": [
    "print_greeting()"
   ]
  },
  {
   "cell_type": "code",
   "execution_count": 39,
   "metadata": {},
   "outputs": [],
   "source": [
    "def print_date(year, month, day):\n",
    "    joined = str(year) + '/' + str(month) + '/'+ str(day)\n",
    "    print(joined)"
   ]
  },
  {
   "cell_type": "code",
   "execution_count": 42,
   "metadata": {},
   "outputs": [
    {
     "name": "stdout",
     "output_type": "stream",
     "text": [
      "2018/7/10\n",
      "2018/7/10\n"
     ]
    }
   ],
   "source": [
    "print_date(2018, 7, 10)\n",
    "print_date(day=10, month=7, year=2018)"
   ]
  },
  {
   "cell_type": "code",
   "execution_count": 53,
   "metadata": {},
   "outputs": [],
   "source": [
    "def average(values):\n",
    "    if len(values) == 0:\n",
    "        return None\n",
    "    return sum(values)/len(values)"
   ]
  },
  {
   "cell_type": "code",
   "execution_count": 56,
   "metadata": {
    "scrolled": true
   },
   "outputs": [
    {
     "name": "stdout",
     "output_type": "stream",
     "text": [
      "4.5\n"
     ]
    }
   ],
   "source": [
    "a = average([1, 2, 5, 10])\n",
    "print(a)"
   ]
  },
  {
   "cell_type": "code",
   "execution_count": 57,
   "metadata": {},
   "outputs": [
    {
     "name": "stdout",
     "output_type": "stream",
     "text": [
      "1 is not large\n",
      "2 is not large\n",
      "3 is medium\n",
      "4 is large\n",
      "5 is large\n"
     ]
    }
   ],
   "source": [
    "masses = [1, 2, 3, 4, 5]\n",
    "\n",
    "for m in masses:\n",
    "    if m > 3.0:\n",
    "        print(m, 'is large')\n",
    "    elif m == 3.0:\n",
    "        print(m, 'is medium')\n",
    "    else:\n",
    "        print(m, 'is not large')"
   ]
  }
 ],
 "metadata": {
  "kernelspec": {
   "display_name": "Python 3",
   "language": "python",
   "name": "python3"
  },
  "language_info": {
   "codemirror_mode": {
    "name": "ipython",
    "version": 3
   },
   "file_extension": ".py",
   "mimetype": "text/x-python",
   "name": "python",
   "nbconvert_exporter": "python",
   "pygments_lexer": "ipython3",
   "version": "3.6.5"
  }
 },
 "nbformat": 4,
 "nbformat_minor": 2
}
